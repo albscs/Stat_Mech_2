{
 "cells": [
  {
   "cell_type": "markdown",
   "id": "b20169eb",
   "metadata": {},
   "source": [
    "# NOTE: This is not my main Python code that I coded and used! The other notebook is much more well-documented and commented. This is just a test notebook I copied and pasted from the original code (see citation: [1]) in which I got lucky and managed to get a spontaneous spin-flip for my entire system. See code block 95 (at the bottom) for the lucky experiment!"
   ]
  },
  {
   "cell_type": "code",
   "execution_count": 71,
   "id": "3ea24629",
   "metadata": {},
   "outputs": [],
   "source": [
    "%matplotlib inline\n",
    "from __future__ import division\n",
    "import numpy as np\n",
    "from numpy.random import rand\n",
    "import matplotlib.pyplot as plt"
   ]
  },
  {
   "cell_type": "code",
   "execution_count": 72,
   "id": "02ce07e2",
   "metadata": {},
   "outputs": [],
   "source": [
    "#----------------------------------------------------------------------\n",
    "##  BLOCK OF FUNCTIONS USED IN THE MAIN CODE\n",
    "#----------------------------------------------------------------------\n",
    "def initialstate(N):   \n",
    "    ''' generates a random spin configuration for initial condition'''\n",
    "    state = 2*np.random.randint(2, size=(N,N))-1\n",
    "    return state\n",
    "\n",
    "\n",
    "def mcmove(config, beta):\n",
    "    '''Monte Carlo move using Metropolis algorithm '''\n",
    "    for i in range(N):\n",
    "        for j in range(N):\n",
    "                a = np.random.randint(0, N)\n",
    "                b = np.random.randint(0, N)\n",
    "                s =  config[a, b]\n",
    "                nb = config[(a+1)%N,b] + config[a,(b+1)%N] + config[(a-1)%N,b] + config[a,(b-1)%N]\n",
    "                cost = 2*s*nb\n",
    "                if cost < 0:\n",
    "                    s *= -1\n",
    "                elif rand() < np.exp(-cost*beta):\n",
    "                    s *= -1\n",
    "                config[a, b] = s\n",
    "    return config\n",
    "\n",
    "\n",
    "def calcEnergy(config):\n",
    "    '''Energy of a given configuration'''\n",
    "    energy = 0\n",
    "    for i in range(len(config)):\n",
    "        for j in range(len(config)):\n",
    "            S = config[i,j]\n",
    "            nb = config[(i+1)%N, j] + config[i,(j+1)%N] + config[(i-1)%N, j] + config[i,(j-1)%N]\n",
    "            energy += -nb*S\n",
    "    return energy/4.\n",
    "\n",
    "\n",
    "def calcMag(config):\n",
    "    '''Magnetization of a given configuration'''\n",
    "    mag = np.sum(config)\n",
    "    return mag"
   ]
  },
  {
   "cell_type": "code",
   "execution_count": 73,
   "id": "8d3b2505",
   "metadata": {},
   "outputs": [],
   "source": [
    "## change these parameters for a smaller (faster) simulation \n",
    "nt      = 1#88         #  number of temperature points\n",
    "N       = 16         #  size of the lattice, N x N\n",
    "eqSteps = 10240       #  number of MC sweeps for equilibration\n",
    "mcSteps = 1024       #  number of MC sweeps for calculation\n",
    "\n",
    "T       = [2.0]#np.linspace(1.53, 3.28, nt); \n",
    "E,M,C,X = np.zeros(nt), np.zeros(nt), np.zeros(nt), np.zeros(nt)\n",
    "n1, n2  = 1.0/(mcSteps*N*N), 1.0/(mcSteps*mcSteps*N*N) \n",
    "# divide by number of samples, and by system size to get intensive values"
   ]
  },
  {
   "cell_type": "code",
   "execution_count": 76,
   "id": "ac482360",
   "metadata": {},
   "outputs": [],
   "source": [
    "#----------------------------------------------------------------------\n",
    "#  MAIN PART OF THE CODE\n",
    "#----------------------------------------------------------------------\n",
    "for tt in range(nt):\n",
    "    E1 = M1 = E2 = M2 = 0\n",
    "    config = initialstate(N)\n",
    "    iT=1.0/T[tt]; iT2=iT*iT;\n",
    "    \n",
    "    MagArrayT2 = []\n",
    "    Mag2ArrayT2 = []\n",
    "    \n",
    "    for i in range(eqSteps):         # equilibrate\n",
    "        mcmove(config, iT)           # Monte Carlo moves\n",
    "        Mag = calcMag(config) \n",
    "        MagArrayT2.append(float(Mag)/float(N*N))\n",
    "        Mag2ArrayT2.append((float(Mag)/float(N*N))*(float(Mag)/float(N*N)))\n",
    "\n",
    "    for i in range(mcSteps):\n",
    "        mcmove(config, iT)\n",
    "        Ene = calcEnergy(config)     # calculate the energy\n",
    "        Mag = calcMag(config)        # calculate the magnetisation\n",
    "        \n",
    "        MagArrayT2.append(float(Mag)/float(N*N))\n",
    "        Mag2ArrayT2.append((float(Mag)/float(N*N))*(float(Mag)/float(N*N)))\n",
    "\n",
    "        E1 = E1 + Ene\n",
    "        M1 = M1 + Mag\n",
    "        M2 = M2 + Mag*Mag \n",
    "        E2 = E2 + Ene*Ene\n",
    "\n",
    "    E[tt] = n1*E1\n",
    "    M[tt] = n1*M1\n",
    "    C[tt] = (n1*E2 - n2*E1*E1)*iT2\n",
    "    X[tt] = (n1*M2 - n2*M1*M1)*iT"
   ]
  },
  {
   "cell_type": "code",
   "execution_count": 77,
   "id": "f22e3a5a",
   "metadata": {},
   "outputs": [
    {
     "data": {
      "text/plain": [
       "[<matplotlib.lines.Line2D at 0x7fc4a28a6a30>]"
      ]
     },
     "execution_count": 77,
     "metadata": {},
     "output_type": "execute_result"
    },
    {
     "data": {
      "image/png": "[encoded data removed]",
      "text/plain": [
       "<Figure size 432x288 with 1 Axes>"
      ]
     },
     "metadata": {
      "needs_background": "light"
     },
     "output_type": "display_data"
    }
   ],
   "source": [
    "plt.plot(MagArrayT2)"
   ]
  },
  {
   "cell_type": "code",
   "execution_count": 78,
   "id": "88b328fe",
   "metadata": {},
   "outputs": [
    {
     "data": {
      "text/plain": [
       "[<matplotlib.lines.Line2D at 0x7fc490751490>]"
      ]
     },
     "execution_count": 78,
     "metadata": {},
     "output_type": "execute_result"
    },
    {
     "data": {
      "image/png": "[encoded data removed]",
      "text/plain": [
       "<Figure size 432x288 with 1 Axes>"
      ]
     },
     "metadata": {
      "needs_background": "light"
     },
     "output_type": "display_data"
    }
   ],
   "source": [
    "plt.plot(Mag2ArrayT2)"
   ]
  },
  {
   "cell_type": "code",
   "execution_count": 79,
   "id": "9780f17e",
   "metadata": {},
   "outputs": [],
   "source": [
    "## change these parameters for a smaller (faster) simulation \n",
    "nt      = 1#88         #  number of temperature points\n",
    "N       = 16         #  size of the lattice, N x N\n",
    "eqSteps = 10240       #  number of MC sweeps for equilibration\n",
    "mcSteps = 1024       #  number of MC sweeps for calculation\n",
    "\n",
    "T       = [3.0]#np.linspace(1.53, 3.28, nt); \n",
    "E,M,C,X = np.zeros(nt), np.zeros(nt), np.zeros(nt), np.zeros(nt)\n",
    "n1, n2  = 1.0/(mcSteps*N*N), 1.0/(mcSteps*mcSteps*N*N) \n",
    "# divide by number of samples, and by system size to get intensive values"
   ]
  },
  {
   "cell_type": "code",
   "execution_count": 88,
   "id": "54a8b602",
   "metadata": {},
   "outputs": [],
   "source": [
    "#----------------------------------------------------------------------\n",
    "#  MAIN PART OF THE CODE\n",
    "#----------------------------------------------------------------------\n",
    "for tt in range(nt):\n",
    "    E1 = M1 = E2 = M2 = 0\n",
    "    config = initialstate(N)\n",
    "    iT=1.0/T[tt]; iT2=iT*iT;\n",
    "    \n",
    "    MagArrayT3 = []\n",
    "    Mag2ArrayT3 = []\n",
    "    \n",
    "    for i in range(eqSteps):         # equilibrate\n",
    "        mcmove(config, iT)           # Monte Carlo moves\n",
    "        Mag = calcMag(config)\n",
    "        MagArrayT3.append(float(Mag)/float(N*N))\n",
    "        Mag2ArrayT3.append((float(Mag)/float(N*N))*(float(Mag)/float(N*N)))\n",
    "    \n",
    "    for i in range(mcSteps):\n",
    "        mcmove(config, iT)\n",
    "        Ene = calcEnergy(config)     # calculate the energy\n",
    "        Mag = calcMag(config)        # calculate the magnetisation\n",
    "\n",
    "        MagArrayT3.append(float(Mag)/float(N*N))\n",
    "        Mag2ArrayT3.append((float(Mag)/float(N*N))*(float(Mag)/float(N*N)))\n",
    "        \n",
    "        E1 = E1 + Ene\n",
    "        M1 = M1 + Mag\n",
    "        M2 = M2 + Mag*Mag \n",
    "        E2 = E2 + Ene*Ene\n",
    "\n",
    "    E[tt] = n1*E1\n",
    "    M[tt] = n1*M1\n",
    "    C[tt] = (n1*E2 - n2*E1*E1)*iT2\n",
    "    X[tt] = (n1*M2 - n2*M1*M1)*iT"
   ]
  },
  {
   "cell_type": "code",
   "execution_count": 89,
   "id": "baeb4762",
   "metadata": {},
   "outputs": [],
   "source": [
    "#print(MagArrayT3)\n"
   ]
  },
  {
   "cell_type": "code",
   "execution_count": 90,
   "id": "92008118",
   "metadata": {},
   "outputs": [
    {
     "data": {
      "text/plain": [
       "[<matplotlib.lines.Line2D at 0x7fc4a2bcf160>]"
      ]
     },
     "execution_count": 90,
     "metadata": {},
     "output_type": "execute_result"
    },
    {
     "data": {
      "image/png": "[encoded data removed]",
      "text/plain": [
       "<Figure size 432x288 with 1 Axes>"
      ]
     },
     "metadata": {
      "needs_background": "light"
     },
     "output_type": "display_data"
    }
   ],
   "source": [
    "plt.plot(MagArrayT3)"
   ]
  },
  {
   "cell_type": "code",
   "execution_count": 91,
   "id": "95ef4600",
   "metadata": {},
   "outputs": [],
   "source": [
    "#print(Mag2ArrayT3)"
   ]
  },
  {
   "cell_type": "code",
   "execution_count": 92,
   "id": "f1c71891",
   "metadata": {},
   "outputs": [
    {
     "data": {
      "text/plain": [
       "[<matplotlib.lines.Line2D at 0x7fc4a2c448e0>]"
      ]
     },
     "execution_count": 92,
     "metadata": {},
     "output_type": "execute_result"
    },
    {
     "data": {
      "image/png": "[encoded data removed]",
      "text/plain": [
       "<Figure size 432x288 with 1 Axes>"
      ]
     },
     "metadata": {
      "needs_background": "light"
     },
     "output_type": "display_data"
    }
   ],
   "source": [
    "plt.plot(Mag2ArrayT3)"
   ]
  },
  {
   "cell_type": "code",
   "execution_count": 49,
   "id": "af211e8f",
   "metadata": {},
   "outputs": [
    {
     "name": "stdout",
     "output_type": "stream",
     "text": [
      "[[-1  1  1  1  1 -1 -1 -1 -1 -1 -1 -1 -1 -1 -1 -1]\n",
      " [ 1  1  1  1  1 -1 -1 -1 -1 -1 -1 -1 -1 -1 -1 -1]\n",
      " [ 1  1  1  1  1 -1 -1 -1 -1 -1  1  1 -1 -1 -1 -1]\n",
      " [ 1  1  1  1  1  1 -1 -1 -1 -1  1  1  1 -1  1  1]\n",
      " [ 1  1  1  1  1 -1 -1 -1 -1 -1 -1 -1  1 -1  1  1]\n",
      " [ 1  1  1  1 -1  1 -1 -1 -1 -1 -1 -1 -1  1  1 -1]\n",
      " [ 1  1  1  1  1  1 -1  1 -1 -1 -1 -1 -1 -1  1  1]\n",
      " [ 1  1  1  1  1 -1 -1 -1 -1 -1 -1  1  1  1  1  1]\n",
      " [ 1  1  1  1  1 -1 -1 -1 -1 -1 -1 -1  1  1  1  1]\n",
      " [ 1  1  1  1  1 -1 -1  1 -1  1 -1 -1  1  1 -1 -1]\n",
      " [ 1  1  1  1  1  1  1  1 -1  1  1 -1  1  1 -1  1]\n",
      " [ 1  1  1  1  1  1  1  1  1  1 -1  1  1  1  1  1]\n",
      " [ 1 -1  1  1  1  1  1 -1  1  1  1  1  1  1  1 -1]\n",
      " [-1 -1 -1  1  1 -1  1 -1  1 -1 -1  1  1  1 -1 -1]\n",
      " [-1 -1 -1  1  1 -1 -1 -1 -1 -1  1  1 -1 -1 -1  1]\n",
      " [-1 -1  1  1  1  1 -1 -1 -1 -1 -1 -1 -1 -1 -1 -1]]\n"
     ]
    }
   ],
   "source": [
    "print(config)"
   ]
  },
  {
   "cell_type": "code",
   "execution_count": null,
   "id": "6547eea0",
   "metadata": {},
   "outputs": [],
   "source": [
    "# f = plt.figure(figsize=(18, 10)); # plot the calculated values    \n",
    "\n",
    "# sp =  f.add_subplot(2, 2, 1 );\n",
    "# plt.scatter(T, E, s=50, marker='o', color='IndianRed')\n",
    "# plt.xlabel(\"Temperature (T)\", fontsize=20);\n",
    "# plt.ylabel(\"Energy \", fontsize=20);         plt.axis('tight');\n",
    "\n",
    "# sp =  f.add_subplot(2, 2, 2 );\n",
    "# plt.scatter(T, abs(M), s=50, marker='o', color='RoyalBlue')\n",
    "# plt.xlabel(\"Temperature (T)\", fontsize=20); \n",
    "# plt.ylabel(\"Magnetization \", fontsize=20);   plt.axis('tight');\n",
    "\n",
    "# sp =  f.add_subplot(2, 2, 3 );\n",
    "# plt.scatter(T, C, s=50, marker='o', color='IndianRed')\n",
    "# plt.xlabel(\"Temperature (T)\", fontsize=20);  \n",
    "# plt.ylabel(\"Specific Heat \", fontsize=20);   plt.axis('tight');   \n",
    "\n",
    "# sp =  f.add_subplot(2, 2, 4 );\n",
    "# plt.scatter(T, X, s=50, marker='o', color='RoyalBlue')\n",
    "# plt.xlabel(\"Temperature (T)\", fontsize=20); \n",
    "# plt.ylabel(\"Susceptibility\", fontsize=20);   plt.axis('tight');"
   ]
  },
  {
   "cell_type": "code",
   "execution_count": 15,
   "id": "65b18363",
   "metadata": {},
   "outputs": [],
   "source": [
    "# change in energy is 8J\n",
    "#    d          d               u          u        \n",
    "# d  d  d => d  u  d   or    u  u  u => u  d  u  \n",
    "#    d          d               u          u \n",
    "#     \n",
    "# change in energy is 4J\n",
    "#    d          d               u          u        \n",
    "# d  d  u => d  u  u   or    u  u  d => u  d  d   \n",
    "#    d          d               u          u \n",
    "#     \n",
    "# Here u and d are used for up and down configuration of the spins"
   ]
  },
  {
   "cell_type": "code",
   "execution_count": 17,
   "id": "d94f8448",
   "metadata": {},
   "outputs": [],
   "source": [
    "%matplotlib inline\n",
    "# Simulating the Ising model\n",
    "from __future__ import division\n",
    "import numpy as np\n",
    "from numpy.random import rand\n",
    "import matplotlib.pyplot as plt\n",
    "\n",
    "class Ising():\n",
    "    ''' Simulating the Ising model '''    \n",
    "    ## monte carlo moves\n",
    "    def mcmove(self, config, N, beta):\n",
    "        ''' This is to execute the monte carlo moves using \n",
    "        Metropolis algorithm such that detailed\n",
    "        balance condition is satisified'''\n",
    "        for i in range(N):\n",
    "            for j in range(N):            \n",
    "                    a = np.random.randint(0, N)\n",
    "                    b = np.random.randint(0, N)\n",
    "                    s =  config[a, b]\n",
    "                    nb = config[(a+1)%N,b] + config[a,(b+1)%N] + config[(a-1)%N,b] + config[a,(b-1)%N]\n",
    "                    cost = 2*s*nb\n",
    "                    if cost < 0:\t\n",
    "                        s *= -1\n",
    "                    elif rand() < np.exp(-cost*beta):\n",
    "                        s *= -1\n",
    "                    config[a, b] = s\n",
    "        return config\n",
    "    \n",
    "    def simulate(self):   \n",
    "        ''' This module simulates the Ising model'''\n",
    "        N, temp     = 64, .4        # Initialse the lattice\n",
    "        config = 2*np.random.randint(2, size=(N,N))-1\n",
    "        f = plt.figure(figsize=(15, 15), dpi=80);    \n",
    "        self.configPlot(f, config, 0, N, 1);\n",
    "        \n",
    "        msrmnt = 1001\n",
    "        for i in range(msrmnt):\n",
    "            self.mcmove(config, N, 1.0/temp)\n",
    "            if i == 1:       self.configPlot(f, config, i, N, 2);\n",
    "            if i == 4:       self.configPlot(f, config, i, N, 3);\n",
    "            if i == 32:      self.configPlot(f, config, i, N, 4);\n",
    "            if i == 100:     self.configPlot(f, config, i, N, 5);\n",
    "            if i == 1000:    self.configPlot(f, config, i, N, 6);\n",
    "                 \n",
    "                    \n",
    "    def configPlot(self, f, config, i, N, n_):\n",
    "        ''' This modules plts the configuration once passed to it along with time etc '''\n",
    "        X, Y = np.meshgrid(range(N), range(N))\n",
    "        sp =  f.add_subplot(3, 3, n_ )  \n",
    "        plt.setp(sp.get_yticklabels(), visible=False)\n",
    "        plt.setp(sp.get_xticklabels(), visible=False)      \n",
    "        plt.pcolormesh(X, Y, config, cmap=plt.cm.RdBu);\n",
    "        plt.title('Time=%d'%i); plt.axis('tight')    \n",
    "    plt.show()"
   ]
  },
  {
   "cell_type": "code",
   "execution_count": 18,
   "id": "4a865ffd",
   "metadata": {},
   "outputs": [
    {
     "data": {
      "text/plain": [
       "3862"
      ]
     },
     "execution_count": 18,
     "metadata": {},
     "output_type": "execute_result"
    }
   ],
   "source": [
    "M1"
   ]
  },
  {
   "cell_type": "code",
   "execution_count": 95,
   "id": "38c8ecf0",
   "metadata": {},
   "outputs": [
    {
     "data": {
      "text/plain": [
       "Text(0, 0.5, 'Net Magnetization')"
      ]
     },
     "execution_count": 95,
     "metadata": {},
     "output_type": "execute_result"
    },
    {
     "data": {
      "image/png": "[encoded data removed]",
      "text/plain": [
       "<Figure size 432x288 with 1 Axes>"
      ]
     },
     "metadata": {
      "needs_background": "light"
     },
     "output_type": "display_data"
    }
   ],
   "source": [
    "plt.plot(MagArrayT2)\n",
    "plt.xlabel('Number of MC Timesteps')\n",
    "plt.ylabel('Net Magnetization')"
   ]
  },
  {
   "cell_type": "markdown",
   "id": "d3b09c3e",
   "metadata": {},
   "source": [
    "[1]\tSingh, R. Ising Model. https://rajeshrinet.github.io/blog/2014/ising-model/ (accessed Feb 5, 2023)."
   ]
  },
  {
   "cell_type": "code",
   "execution_count": null,
   "id": "01c8638f",
   "metadata": {},
   "outputs": [],
   "source": []
  }
 ],
 "metadata": {
  "kernelspec": {
   "display_name": "Python 3 (ipykernel)",
   "language": "python",
   "name": "python3"
  },
  "language_info": {
   "codemirror_mode": {
    "name": "ipython",
    "version": 3
   },
   "file_extension": ".py",
   "mimetype": "text/x-python",
   "name": "python",
   "nbconvert_exporter": "python",
   "pygments_lexer": "ipython3",
   "version": "3.9.12"
  }
 },
 "nbformat": 4,
 "nbformat_minor": 5
}
